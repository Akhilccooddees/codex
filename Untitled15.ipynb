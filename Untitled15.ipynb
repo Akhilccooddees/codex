{
  "nbformat": 4,
  "nbformat_minor": 0,
  "metadata": {
    "colab": {
      "provenance": [],
      "authorship_tag": "ABX9TyPDIhUlvSIO1ZCDNUclMOW8",
      "include_colab_link": true
    },
    "kernelspec": {
      "name": "python3",
      "display_name": "Python 3"
    },
    "language_info": {
      "name": "python"
    }
  },
  "cells": [
    {
      "cell_type": "markdown",
      "metadata": {
        "id": "view-in-github",
        "colab_type": "text"
      },
      "source": [
        "<a href=\"https://colab.research.google.com/github/Akhilccooddees/codex/blob/main/Untitled15.ipynb\" target=\"_parent\"><img src=\"https://colab.research.google.com/assets/colab-badge.svg\" alt=\"Open In Colab\"/></a>"
      ]
    },
    {
      "cell_type": "code",
      "execution_count": 1,
      "metadata": {
        "colab": {
          "base_uri": "https://localhost:8080/"
        },
        "id": "2S9En_mPEPDC",
        "outputId": "f450d365-f414-400d-bea7-e7b54fafad28"
      },
      "outputs": [
        {
          "output_type": "stream",
          "name": "stdout",
          "text": [
            "Multiplication of 5 and 10 is 50\n"
          ]
        }
      ],
      "source": [
        "# Hard-coded multiplication example\n",
        "num1 = 5\n",
        "num2 = 10\n",
        "result = num1 * num2\n",
        "print(f\"Multiplication of {num1} and {num2} is {result}\")\n"
      ]
    },
    {
      "cell_type": "code",
      "source": [
        "# Multiplication using keyboard input\n",
        "try:\n",
        "    num1 = float(input(\"Enter the first number: \"))\n",
        "    num2 = float(input(\"Enter the second number: \"))\n",
        "    result = num1 * num2\n",
        "    print(f\"Multiplication of {num1} and {num2} is {result}\")\n",
        "except ValueError:\n",
        "    print(\"Please enter valid numbers!\")\n"
      ],
      "metadata": {
        "colab": {
          "base_uri": "https://localhost:8080/"
        },
        "id": "1iC7nwV7FzFt",
        "outputId": "31a1f7da-9f67-434e-c2a5-d351943d957c"
      },
      "execution_count": 2,
      "outputs": [
        {
          "output_type": "stream",
          "name": "stdout",
          "text": [
            "Enter the first number: 5\n",
            "Enter the second number: 5\n",
            "Multiplication of 5.0 and 5.0 is 25.0\n"
          ]
        }
      ]
    },
    {
      "cell_type": "code",
      "source": [
        "# Multiplication reading from a file (single input)\n",
        "try:\n",
        "    with open('input_single.txt', 'r') as file:\n",
        "        data = file.readline().strip().split()\n",
        "        num1, num2 = map(float, data)\n",
        "        result = num1 * num2\n",
        "        print(f\"Multiplication of {num1} and {num2} is {result}\")\n",
        "except FileNotFoundError:\n",
        "    print(\"The file 'input_single.txt' was not found.\")\n",
        "except ValueError:\n",
        "    print(\"Make sure the file contains exactly two numbers separated by a space.\")\n"
      ],
      "metadata": {
        "colab": {
          "base_uri": "https://localhost:8080/"
        },
        "id": "KMACvAiFGAFv",
        "outputId": "50d2c0c5-beac-406b-8d90-a1525059d1ca"
      },
      "execution_count": 6,
      "outputs": [
        {
          "output_type": "stream",
          "name": "stdout",
          "text": [
            "Multiplication of 5.0 and 10.0 is 50.0\n"
          ]
        }
      ]
    },
    {
      "cell_type": "code",
      "source": [
        "# Multiplication reading from a file (multiple inputs)\n",
        "try:\n",
        "    with open('input_multiple.txt', 'r') as file:\n",
        "        for line in file:\n",
        "            data = line.strip().split()\n",
        "            if len(data) != 2:\n",
        "                print(f\"Skipping invalid line: {line.strip()}\")\n",
        "                continue\n",
        "            num1, num2 = map(float, data)\n",
        "            result = num1 * num2\n",
        "            print(f\"Multiplication of {num1} and {num2} is {result}\")\n",
        "except FileNotFoundError:\n",
        "    print(\"The file 'input_multiple.txt' was not found.\")\n",
        "except ValueError:\n",
        "    print(\"Ensure each line in the file has two numbers separated by a space.\")\n"
      ],
      "metadata": {
        "colab": {
          "base_uri": "https://localhost:8080/"
        },
        "id": "qRPuxEoQQ6IW",
        "outputId": "eda718d5-7417-40e5-ba07-5994d4df4f96"
      },
      "execution_count": 8,
      "outputs": [
        {
          "output_type": "stream",
          "name": "stdout",
          "text": [
            "Multiplication of 5.0 and 10.0 is 50.0\n",
            "Multiplication of 7.0 and 3.0 is 21.0\n",
            "Multiplication of 6.0 and 2.0 is 12.0\n"
          ]
        }
      ]
    }
  ]
}